{
 "cells": [
  {
   "cell_type": "markdown",
   "metadata": {},
   "source": [
    "## Задание 1. A/B–тестирование"
   ]
  },
  {
   "cell_type": "markdown",
   "metadata": {},
   "source": [
    "### 1.1 Условие\n",
    "\n",
    "Одной из основных задач аналитика в нашей команде является корректное проведение экспериментов. Для этого мы применяем метод A/B–тестирования. В ходе тестирования одной гипотезы целевой группе была предложена новая механика оплаты услуг на сайте, у контрольной группы оставалась базовая механика. В качестве задания Вам необходимо проанализировать итоги эксперимента и сделать вывод, стоит ли запускать новую механику оплаты на всех пользователей."
   ]
  },
  {
   "cell_type": "markdown",
   "metadata": {},
   "source": [
    "### 1.2 Входные данные\n",
    "\n",
    "В качестве входных данных Вы имеете 4 csv-файла:  \n",
    "**groups.csv** -  файл с информацией о принадлежности пользователя к контрольной или экспериментальной группе (А – контроль, B – целевая группа).  \n",
    "**groups_add.csv** - дополнительный файл с пользователями, который вам прислали спустя 2 дня после передачи данных.  \n",
    "**active_studs.csv** - файл с информацией о пользователях, которые зашли на платформу в дни проведения эксперимента.   \n",
    "**checks.csv** - файл с информацией об оплатах пользователей в дни проведения эксперимента.  "
   ]
  },
  {
   "cell_type": "code",
   "execution_count": 1,
   "metadata": {},
   "outputs": [],
   "source": [
    "import pandas as pd\n",
    "import numpy as np\n",
    "import seaborn as sns\n",
    "import matplotlib.pyplot as plt\n",
    "%matplotlib inline\n",
    "import scipy.stats as stats\n",
    "import pingouin as pg\n",
    "from scipy.stats import bootstrap\n",
    "import requests\n",
    "from urllib.parse import urlencode "
   ]
  },
  {
   "cell_type": "markdown",
   "metadata": {},
   "source": [
    "### Импорт данных через API"
   ]
  },
  {
   "cell_type": "code",
   "execution_count": 2,
   "metadata": {},
   "outputs": [],
   "source": [
    "base_url = 'https://cloud-api.yandex.net/v1/disk/public/resources/download?' \n",
    "groups_key = 'https://disk.yandex.ru/d/UhyYx41rTt3clQ' \n",
    "groups_add_key = 'https://disk.yandex.ru/d/5Kxrz02m3IBUwQ' \n",
    "active_studs_key = 'https://disk.yandex.ru/d/Tbs44Bm6H_FwFQ'\n",
    "checks_key = 'https://disk.yandex.ru/d/pH1q-VqcxXjsVA'"
   ]
  },
  {
   "cell_type": "code",
   "execution_count": 3,
   "metadata": {},
   "outputs": [],
   "source": [
    "# Функция для чтнения\n",
    "def read_files(public_key):\n",
    "    base_url = 'https://cloud-api.yandex.net/v1/disk/public/resources/download?'\n",
    "    final_url = base_url + urlencode(dict(public_key=public_key))\n",
    "    response = requests.get(final_url)\n",
    "    download_url = response.json()['href']\n",
    "    return download_url"
   ]
  },
  {
   "cell_type": "code",
   "execution_count": 4,
   "metadata": {},
   "outputs": [
    {
     "name": "stderr",
     "output_type": "stream",
     "text": [
      "/opt/tljh/user/lib/python3.7/site-packages/outdated/utils.py:18: OutdatedCacheFailedWarning: Failed to use cache while checking for outdated package.\n",
      "Set the environment variable OUTDATED_RAISE_EXCEPTION=1 for a full traceback.\n",
      "Set the environment variable OUTDATED_IGNORE=1 to disable these warnings.\n",
      "  **kwargs\n",
      "/opt/tljh/user/lib/python3.7/site-packages/outdated/utils.py:18: OutdatedPackageWarning: The package outdated is out of date. Your version is 0.2.1, the latest is 0.2.2.\n",
      "Set the environment variable OUTDATED_IGNORE=1 to disable these warnings.\n",
      "  **kwargs\n",
      "/opt/tljh/user/lib/python3.7/site-packages/outdated/utils.py:18: OutdatedPackageWarning: The package pingouin is out of date. Your version is 0.4.0, the latest is 0.5.4.\n",
      "Set the environment variable OUTDATED_IGNORE=1 to disable these warnings.\n",
      "  **kwargs\n"
     ]
    },
    {
     "data": {
      "text/html": [
       "<div>\n",
       "<style scoped>\n",
       "    .dataframe tbody tr th:only-of-type {\n",
       "        vertical-align: middle;\n",
       "    }\n",
       "\n",
       "    .dataframe tbody tr th {\n",
       "        vertical-align: top;\n",
       "    }\n",
       "\n",
       "    .dataframe thead th {\n",
       "        text-align: right;\n",
       "    }\n",
       "</style>\n",
       "<table border=\"1\" class=\"dataframe\">\n",
       "  <thead>\n",
       "    <tr style=\"text-align: right;\">\n",
       "      <th></th>\n",
       "      <th>id</th>\n",
       "      <th>grp</th>\n",
       "    </tr>\n",
       "  </thead>\n",
       "  <tbody>\n",
       "    <tr>\n",
       "      <th>0</th>\n",
       "      <td>1489</td>\n",
       "      <td>B</td>\n",
       "    </tr>\n",
       "    <tr>\n",
       "      <th>1</th>\n",
       "      <td>1627</td>\n",
       "      <td>A</td>\n",
       "    </tr>\n",
       "    <tr>\n",
       "      <th>2</th>\n",
       "      <td>1768</td>\n",
       "      <td>B</td>\n",
       "    </tr>\n",
       "    <tr>\n",
       "      <th>3</th>\n",
       "      <td>1783</td>\n",
       "      <td>B</td>\n",
       "    </tr>\n",
       "    <tr>\n",
       "      <th>4</th>\n",
       "      <td>1794</td>\n",
       "      <td>A</td>\n",
       "    </tr>\n",
       "  </tbody>\n",
       "</table>\n",
       "</div>"
      ],
      "text/plain": [
       "     id grp\n",
       "0  1489   B\n",
       "1  1627   A\n",
       "2  1768   B\n",
       "3  1783   B\n",
       "4  1794   A"
      ]
     },
     "execution_count": 4,
     "metadata": {},
     "output_type": "execute_result"
    }
   ],
   "source": [
    "groups = read_files(groups_key)\n",
    "groups = pd.read_csv(groups, sep=';')\n",
    "groups.head()"
   ]
  },
  {
   "cell_type": "code",
   "execution_count": 5,
   "metadata": {},
   "outputs": [
    {
     "data": {
      "text/html": [
       "<div>\n",
       "<style scoped>\n",
       "    .dataframe tbody tr th:only-of-type {\n",
       "        vertical-align: middle;\n",
       "    }\n",
       "\n",
       "    .dataframe tbody tr th {\n",
       "        vertical-align: top;\n",
       "    }\n",
       "\n",
       "    .dataframe thead th {\n",
       "        text-align: right;\n",
       "    }\n",
       "</style>\n",
       "<table border=\"1\" class=\"dataframe\">\n",
       "  <thead>\n",
       "    <tr style=\"text-align: right;\">\n",
       "      <th></th>\n",
       "      <th>id</th>\n",
       "      <th>grp</th>\n",
       "    </tr>\n",
       "  </thead>\n",
       "  <tbody>\n",
       "    <tr>\n",
       "      <th>0</th>\n",
       "      <td>5694584</td>\n",
       "      <td>B</td>\n",
       "    </tr>\n",
       "    <tr>\n",
       "      <th>1</th>\n",
       "      <td>5694830</td>\n",
       "      <td>B</td>\n",
       "    </tr>\n",
       "    <tr>\n",
       "      <th>2</th>\n",
       "      <td>5695057</td>\n",
       "      <td>B</td>\n",
       "    </tr>\n",
       "    <tr>\n",
       "      <th>3</th>\n",
       "      <td>5698872</td>\n",
       "      <td>B</td>\n",
       "    </tr>\n",
       "    <tr>\n",
       "      <th>4</th>\n",
       "      <td>5699067</td>\n",
       "      <td>B</td>\n",
       "    </tr>\n",
       "  </tbody>\n",
       "</table>\n",
       "</div>"
      ],
      "text/plain": [
       "        id grp\n",
       "0  5694584   B\n",
       "1  5694830   B\n",
       "2  5695057   B\n",
       "3  5698872   B\n",
       "4  5699067   B"
      ]
     },
     "execution_count": 5,
     "metadata": {},
     "output_type": "execute_result"
    }
   ],
   "source": [
    "groups_add = read_files(groups_add_key)\n",
    "groups_add = pd.read_csv(groups_add)\n",
    "groups_add.head()"
   ]
  },
  {
   "cell_type": "code",
   "execution_count": 6,
   "metadata": {},
   "outputs": [
    {
     "data": {
      "text/html": [
       "<div>\n",
       "<style scoped>\n",
       "    .dataframe tbody tr th:only-of-type {\n",
       "        vertical-align: middle;\n",
       "    }\n",
       "\n",
       "    .dataframe tbody tr th {\n",
       "        vertical-align: top;\n",
       "    }\n",
       "\n",
       "    .dataframe thead th {\n",
       "        text-align: right;\n",
       "    }\n",
       "</style>\n",
       "<table border=\"1\" class=\"dataframe\">\n",
       "  <thead>\n",
       "    <tr style=\"text-align: right;\">\n",
       "      <th></th>\n",
       "      <th>student_id</th>\n",
       "    </tr>\n",
       "  </thead>\n",
       "  <tbody>\n",
       "    <tr>\n",
       "      <th>0</th>\n",
       "      <td>581585</td>\n",
       "    </tr>\n",
       "    <tr>\n",
       "      <th>1</th>\n",
       "      <td>5723133</td>\n",
       "    </tr>\n",
       "    <tr>\n",
       "      <th>2</th>\n",
       "      <td>3276743</td>\n",
       "    </tr>\n",
       "    <tr>\n",
       "      <th>3</th>\n",
       "      <td>4238589</td>\n",
       "    </tr>\n",
       "    <tr>\n",
       "      <th>4</th>\n",
       "      <td>4475369</td>\n",
       "    </tr>\n",
       "  </tbody>\n",
       "</table>\n",
       "</div>"
      ],
      "text/plain": [
       "   student_id\n",
       "0      581585\n",
       "1     5723133\n",
       "2     3276743\n",
       "3     4238589\n",
       "4     4475369"
      ]
     },
     "execution_count": 6,
     "metadata": {},
     "output_type": "execute_result"
    }
   ],
   "source": [
    "active_studs = read_files(active_studs_key)\n",
    "active_studs = pd.read_csv(active_studs)\n",
    "active_studs.head()"
   ]
  },
  {
   "cell_type": "code",
   "execution_count": 7,
   "metadata": {},
   "outputs": [
    {
     "data": {
      "text/html": [
       "<div>\n",
       "<style scoped>\n",
       "    .dataframe tbody tr th:only-of-type {\n",
       "        vertical-align: middle;\n",
       "    }\n",
       "\n",
       "    .dataframe tbody tr th {\n",
       "        vertical-align: top;\n",
       "    }\n",
       "\n",
       "    .dataframe thead th {\n",
       "        text-align: right;\n",
       "    }\n",
       "</style>\n",
       "<table border=\"1\" class=\"dataframe\">\n",
       "  <thead>\n",
       "    <tr style=\"text-align: right;\">\n",
       "      <th></th>\n",
       "      <th>student_id</th>\n",
       "      <th>rev</th>\n",
       "    </tr>\n",
       "  </thead>\n",
       "  <tbody>\n",
       "    <tr>\n",
       "      <th>0</th>\n",
       "      <td>1627</td>\n",
       "      <td>990.0</td>\n",
       "    </tr>\n",
       "    <tr>\n",
       "      <th>1</th>\n",
       "      <td>3185</td>\n",
       "      <td>690.0</td>\n",
       "    </tr>\n",
       "    <tr>\n",
       "      <th>2</th>\n",
       "      <td>25973</td>\n",
       "      <td>690.0</td>\n",
       "    </tr>\n",
       "    <tr>\n",
       "      <th>3</th>\n",
       "      <td>26280</td>\n",
       "      <td>690.0</td>\n",
       "    </tr>\n",
       "    <tr>\n",
       "      <th>4</th>\n",
       "      <td>100300</td>\n",
       "      <td>990.0</td>\n",
       "    </tr>\n",
       "  </tbody>\n",
       "</table>\n",
       "</div>"
      ],
      "text/plain": [
       "   student_id    rev\n",
       "0        1627  990.0\n",
       "1        3185  690.0\n",
       "2       25973  690.0\n",
       "3       26280  690.0\n",
       "4      100300  990.0"
      ]
     },
     "execution_count": 7,
     "metadata": {},
     "output_type": "execute_result"
    }
   ],
   "source": [
    "checks = read_files(checks_key)\n",
    "checks = pd.read_csv(checks, sep=';')\n",
    "checks.head()"
   ]
  },
  {
   "cell_type": "markdown",
   "metadata": {},
   "source": [
    "## Решил все таки оставить локальный импорт данных."
   ]
  },
  {
   "cell_type": "markdown",
   "metadata": {},
   "source": [
    "## Шаг №1. Импортируем входные данные"
   ]
  },
  {
   "cell_type": "code",
   "execution_count": 8,
   "metadata": {},
   "outputs": [],
   "source": [
    "groups = pd.read_csv('Проект_2_groups.csv', sep=';') "
   ]
  },
  {
   "cell_type": "code",
   "execution_count": 9,
   "metadata": {},
   "outputs": [
    {
     "data": {
      "text/plain": [
       "(74484, 2)"
      ]
     },
     "execution_count": 9,
     "metadata": {},
     "output_type": "execute_result"
    }
   ],
   "source": [
    "groups.shape"
   ]
  },
  {
   "cell_type": "code",
   "execution_count": 10,
   "metadata": {},
   "outputs": [],
   "source": [
    "groups_add = pd.read_csv('Проект_2_group_add.csv')"
   ]
  },
  {
   "cell_type": "code",
   "execution_count": 11,
   "metadata": {},
   "outputs": [
    {
     "data": {
      "text/plain": [
       "(92, 2)"
      ]
     },
     "execution_count": 11,
     "metadata": {},
     "output_type": "execute_result"
    }
   ],
   "source": [
    "groups_add.shape"
   ]
  },
  {
   "cell_type": "code",
   "execution_count": 12,
   "metadata": {},
   "outputs": [],
   "source": [
    "active_studs = pd.read_csv('Проект_2_active_studs.csv')"
   ]
  },
  {
   "cell_type": "code",
   "execution_count": 13,
   "metadata": {},
   "outputs": [
    {
     "data": {
      "text/plain": [
       "(8341, 1)"
      ]
     },
     "execution_count": 13,
     "metadata": {},
     "output_type": "execute_result"
    }
   ],
   "source": [
    "active_studs.shape"
   ]
  },
  {
   "cell_type": "code",
   "execution_count": 14,
   "metadata": {},
   "outputs": [],
   "source": [
    "checks = pd.read_csv('Проект_2_checks.csv',sep = ';')"
   ]
  },
  {
   "cell_type": "code",
   "execution_count": 15,
   "metadata": {},
   "outputs": [
    {
     "data": {
      "text/plain": [
       "(541, 2)"
      ]
     },
     "execution_count": 15,
     "metadata": {},
     "output_type": "execute_result"
    }
   ],
   "source": [
    "checks.shape"
   ]
  },
  {
   "cell_type": "markdown",
   "metadata": {},
   "source": [
    "## Шаг №2. Предобработка данных"
   ]
  },
  {
   "cell_type": "code",
   "execution_count": 16,
   "metadata": {},
   "outputs": [
    {
     "name": "stdout",
     "output_type": "stream",
     "text": [
      "<class 'pandas.core.frame.DataFrame'>\n",
      "RangeIndex: 74484 entries, 0 to 74483\n",
      "Data columns (total 2 columns):\n",
      " #   Column  Non-Null Count  Dtype \n",
      "---  ------  --------------  ----- \n",
      " 0   id      74484 non-null  int64 \n",
      " 1   grp     74484 non-null  object\n",
      "dtypes: int64(1), object(1)\n",
      "memory usage: 1.1+ MB\n"
     ]
    }
   ],
   "source": [
    "groups.info() ## Проверка на наличие пропусков."
   ]
  },
  {
   "cell_type": "code",
   "execution_count": 17,
   "metadata": {},
   "outputs": [
    {
     "data": {
      "text/plain": [
       "id     74484\n",
       "grp        2\n",
       "dtype: int64"
      ]
     },
     "execution_count": 17,
     "metadata": {},
     "output_type": "execute_result"
    }
   ],
   "source": [
    "groups.nunique() ## Проверка на уникальность."
   ]
  },
  {
   "cell_type": "code",
   "execution_count": 18,
   "metadata": {},
   "outputs": [
    {
     "name": "stdout",
     "output_type": "stream",
     "text": [
      "<class 'pandas.core.frame.DataFrame'>\n",
      "RangeIndex: 92 entries, 0 to 91\n",
      "Data columns (total 2 columns):\n",
      " #   Column  Non-Null Count  Dtype \n",
      "---  ------  --------------  ----- \n",
      " 0   id      92 non-null     int64 \n",
      " 1   grp     92 non-null     object\n",
      "dtypes: int64(1), object(1)\n",
      "memory usage: 1.6+ KB\n"
     ]
    }
   ],
   "source": [
    "groups_add.info() ## Проверка на наличие пропусков."
   ]
  },
  {
   "cell_type": "code",
   "execution_count": 19,
   "metadata": {},
   "outputs": [
    {
     "data": {
      "text/plain": [
       "id     92\n",
       "grp     2\n",
       "dtype: int64"
      ]
     },
     "execution_count": 19,
     "metadata": {},
     "output_type": "execute_result"
    }
   ],
   "source": [
    "groups_add.nunique() ## Проверка на уникальность."
   ]
  },
  {
   "cell_type": "code",
   "execution_count": 20,
   "metadata": {},
   "outputs": [
    {
     "name": "stdout",
     "output_type": "stream",
     "text": [
      "<class 'pandas.core.frame.DataFrame'>\n",
      "RangeIndex: 8341 entries, 0 to 8340\n",
      "Data columns (total 1 columns):\n",
      " #   Column      Non-Null Count  Dtype\n",
      "---  ------      --------------  -----\n",
      " 0   student_id  8341 non-null   int64\n",
      "dtypes: int64(1)\n",
      "memory usage: 65.3 KB\n"
     ]
    }
   ],
   "source": [
    "active_studs.info() ## Проверка на наличие пропусков."
   ]
  },
  {
   "cell_type": "code",
   "execution_count": 21,
   "metadata": {},
   "outputs": [
    {
     "data": {
      "text/plain": [
       "student_id    8341\n",
       "dtype: int64"
      ]
     },
     "execution_count": 21,
     "metadata": {},
     "output_type": "execute_result"
    }
   ],
   "source": [
    "active_studs.nunique()## Проверка на уникальность."
   ]
  },
  {
   "cell_type": "markdown",
   "metadata": {},
   "source": [
    "**Итог предобработки** - Было проверено наличие пропусков и уникальность строк. В данных не обнаружено пропусков и дубликатов строк."
   ]
  },
  {
   "cell_type": "markdown",
   "metadata": {},
   "source": [
    "## Шаг №3. Объединение данных"
   ]
  },
  {
   "cell_type": "code",
   "execution_count": 22,
   "metadata": {},
   "outputs": [],
   "source": [
    "## Объединяем два датафрейма, которые сожержат инфо о принадлежности пользователя к к контрольной или экспериментальной группе (А – контроль, B – целевая группа).\n",
    "groups_all = pd.concat([groups,groups_add])"
   ]
  },
  {
   "cell_type": "code",
   "execution_count": 23,
   "metadata": {},
   "outputs": [
    {
     "data": {
      "text/plain": [
       "(74576, 2)"
      ]
     },
     "execution_count": 23,
     "metadata": {},
     "output_type": "execute_result"
    }
   ],
   "source": [
    "groups_all.shape"
   ]
  },
  {
   "cell_type": "code",
   "execution_count": 24,
   "metadata": {},
   "outputs": [
    {
     "data": {
      "text/plain": [
       "(74576, 2)"
      ]
     },
     "execution_count": 24,
     "metadata": {},
     "output_type": "execute_result"
    }
   ],
   "source": [
    "groups_all = groups_all.drop_duplicates()## Проверка на наличие дупликатов после concat.\n",
    "groups_all.shape "
   ]
  },
  {
   "cell_type": "code",
   "execution_count": 25,
   "metadata": {},
   "outputs": [],
   "source": [
    "## Объединение active_studs с groups_all, чтобы получить активных пользователей с группами(A/B).\n",
    "active_users = pd.merge(active_studs, groups_all,left_on='student_id', right_on='id', how='inner')"
   ]
  },
  {
   "cell_type": "code",
   "execution_count": 26,
   "metadata": {},
   "outputs": [],
   "source": [
    "active_users = active_users.drop(columns = 'id') ## Лишний столбец после merge\n"
   ]
  },
  {
   "cell_type": "code",
   "execution_count": 27,
   "metadata": {},
   "outputs": [
    {
     "data": {
      "text/plain": [
       "(392, 3)"
      ]
     },
     "execution_count": 27,
     "metadata": {},
     "output_type": "execute_result"
    }
   ],
   "source": [
    "## ## Объединение active_users с checks, чтобы получить активных пользователей, которые провели оплату в дни эксперимента.\n",
    "paid_active = pd.merge(active_users, checks, on='student_id', how='inner')\n",
    "paid_active.shape ## Количество активных пользователей, которые провели оплату в дни эксперимента."
   ]
  },
  {
   "cell_type": "code",
   "execution_count": 28,
   "metadata": {},
   "outputs": [
    {
     "data": {
      "text/plain": [
       "(541, 3)"
      ]
     },
     "execution_count": 28,
     "metadata": {},
     "output_type": "execute_result"
    }
   ],
   "source": [
    "## ## Объединение groups_all с checks, чтобы получить всех пользователей, которые провели оплату в дни эксперимента.\n",
    "paid_all = pd.merge( checks, groups_all,left_on='student_id', right_on='id' , how='inner')\n",
    "paid_all = paid_all.drop(columns = 'id') ## Лишний столбец после merge\n",
    "paid_all.shape ## Количество всех пользователей, которые провели оплату в дни эксперимента."
   ]
  },
  {
   "cell_type": "code",
   "execution_count": 29,
   "metadata": {},
   "outputs": [
    {
     "data": {
      "text/plain": [
       "B    314\n",
       "A     78\n",
       "Name: grp, dtype: int64"
      ]
     },
     "execution_count": 29,
     "metadata": {},
     "output_type": "execute_result"
    }
   ],
   "source": [
    "paid_active.grp.value_counts()"
   ]
  },
  {
   "cell_type": "code",
   "execution_count": 30,
   "metadata": {},
   "outputs": [
    {
     "data": {
      "text/plain": [
       "B    434\n",
       "A    107\n",
       "Name: grp, dtype: int64"
      ]
     },
     "execution_count": 30,
     "metadata": {},
     "output_type": "execute_result"
    }
   ],
   "source": [
    "paid_all.grp.value_counts()"
   ]
  },
  {
   "cell_type": "code",
   "execution_count": 31,
   "metadata": {},
   "outputs": [
    {
     "data": {
      "text/html": [
       "<div>\n",
       "<style scoped>\n",
       "    .dataframe tbody tr th:only-of-type {\n",
       "        vertical-align: middle;\n",
       "    }\n",
       "\n",
       "    .dataframe tbody tr th {\n",
       "        vertical-align: top;\n",
       "    }\n",
       "\n",
       "    .dataframe thead th {\n",
       "        text-align: right;\n",
       "    }\n",
       "</style>\n",
       "<table border=\"1\" class=\"dataframe\">\n",
       "  <thead>\n",
       "    <tr style=\"text-align: right;\">\n",
       "      <th></th>\n",
       "      <th>rev</th>\n",
       "    </tr>\n",
       "    <tr>\n",
       "      <th>grp</th>\n",
       "      <th></th>\n",
       "    </tr>\n",
       "  </thead>\n",
       "  <tbody>\n",
       "    <tr>\n",
       "      <th>A</th>\n",
       "      <td>29</td>\n",
       "    </tr>\n",
       "    <tr>\n",
       "      <th>B</th>\n",
       "      <td>120</td>\n",
       "    </tr>\n",
       "  </tbody>\n",
       "</table>\n",
       "</div>"
      ],
      "text/plain": [
       "     rev\n",
       "grp     \n",
       "A     29\n",
       "B    120"
      ]
     },
     "execution_count": 31,
     "metadata": {},
     "output_type": "execute_result"
    }
   ],
   "source": [
    "## Высичление количество пользователей, у которых стоит автооплата.\n",
    "paid_all.groupby('grp').agg({'rev':'count'}) - paid_active.groupby('grp').agg({'rev':'count'})"
   ]
  },
  {
   "cell_type": "markdown",
   "metadata": {},
   "source": [
    "Можем сделать вывод, что у **149** пользователей стоит автооплата. Из них 29 относятся к контрольной группе(**А**), а 120 относятся к тестовой группе(**В**). "
   ]
  },
  {
   "cell_type": "markdown",
   "metadata": {},
   "source": [
    "**Итог** - у нас есть **active_users**, который содержит информацию об активных пользователях с принадлежностью определенной группе. Также, есть **paid_all**, в которой содержится информация о всех пользователях, которые провели оплату во время эксперемента.А в данных, **paid_active**, содержится информация об активных пользователях, которые провели оплату во время эксперемента.Далее будем работать с файлами - **\"groups_all\"**, **\"paid_all\"**,**\"active_users\"** and **\"paid_active\"**. \n"
   ]
  },
  {
   "cell_type": "markdown",
   "metadata": {},
   "source": [
    "## Шаг №4. Анализ данных"
   ]
  },
  {
   "cell_type": "code",
   "execution_count": 32,
   "metadata": {},
   "outputs": [
    {
     "data": {
      "text/plain": [
       "B    59883\n",
       "A    14693\n",
       "Name: grp, dtype: int64"
      ]
     },
     "execution_count": 32,
     "metadata": {},
     "output_type": "execute_result"
    }
   ],
   "source": [
    "groups_all.grp.value_counts() ## Распределение данных по A и B группам. Можем заметить, что у нас неравномерное распределение данных по группам."
   ]
  },
  {
   "cell_type": "code",
   "execution_count": 33,
   "metadata": {},
   "outputs": [
    {
     "data": {
      "text/plain": [
       "B    6803\n",
       "A    1538\n",
       "Name: grp, dtype: int64"
      ]
     },
     "execution_count": 33,
     "metadata": {},
     "output_type": "execute_result"
    }
   ],
   "source": [
    "active_users.grp.value_counts() ## Распределение данных по A и B группам. Можем заметить, что у нас неравномерное распределение данных по группам."
   ]
  },
  {
   "cell_type": "code",
   "execution_count": 34,
   "metadata": {},
   "outputs": [
    {
     "data": {
      "text/plain": [
       "B    314\n",
       "A     78\n",
       "Name: grp, dtype: int64"
      ]
     },
     "execution_count": 34,
     "metadata": {},
     "output_type": "execute_result"
    }
   ],
   "source": [
    "paid_active.grp.value_counts() ## Распределение данных по A и B группам. Можем заметить, что у нас неравномерное распределение данных по группам."
   ]
  },
  {
   "cell_type": "code",
   "execution_count": 35,
   "metadata": {},
   "outputs": [
    {
     "data": {
      "text/plain": [
       "B    434\n",
       "A    107\n",
       "Name: grp, dtype: int64"
      ]
     },
     "execution_count": 35,
     "metadata": {},
     "output_type": "execute_result"
    }
   ],
   "source": [
    "paid_all.grp.value_counts() ## Распределение данных по A и B группам. Можем заметить, что у нас неравномерное распределение данных по группам."
   ]
  },
  {
   "cell_type": "markdown",
   "metadata": {},
   "source": [
    "### Конверсия -Conversion Rate"
   ]
  },
  {
   "cell_type": "markdown",
   "metadata": {},
   "source": [
    "**Конверсия (CR)** - процент пользователей, совершивших целевое действие от общего числа пользователей.\n",
    "\n",
    "**H0 (нулевая гипотеза):** Нулевая гипотеза состоит в том, что нет никаких различий в конверсии между группами A и B. CR(A) = CR(B).\n",
    "\n",
    "**H1 (альтернативная гипотеза):** Альтернативная гипотеза состоит в том, что существуют статистически значимые различия в конверсии между группами A и B. CR(A) ≠ CR(B)."
   ]
  },
  {
   "cell_type": "code",
   "execution_count": 36,
   "metadata": {},
   "outputs": [
    {
     "data": {
      "text/html": [
       "<div>\n",
       "<style scoped>\n",
       "    .dataframe tbody tr th:only-of-type {\n",
       "        vertical-align: middle;\n",
       "    }\n",
       "\n",
       "    .dataframe tbody tr th {\n",
       "        vertical-align: top;\n",
       "    }\n",
       "\n",
       "    .dataframe thead th {\n",
       "        text-align: right;\n",
       "    }\n",
       "</style>\n",
       "<table border=\"1\" class=\"dataframe\">\n",
       "  <thead>\n",
       "    <tr style=\"text-align: right;\">\n",
       "      <th></th>\n",
       "      <th>grp</th>\n",
       "      <th>total_rev</th>\n",
       "      <th>total_paid_visitors</th>\n",
       "      <th>total_visitors</th>\n",
       "      <th>CR</th>\n",
       "    </tr>\n",
       "  </thead>\n",
       "  <tbody>\n",
       "    <tr>\n",
       "      <th>0</th>\n",
       "      <td>A</td>\n",
       "      <td>92096.0000</td>\n",
       "      <td>107</td>\n",
       "      <td>14693</td>\n",
       "      <td>0.728</td>\n",
       "    </tr>\n",
       "    <tr>\n",
       "      <th>1</th>\n",
       "      <td>B</td>\n",
       "      <td>481230.0036</td>\n",
       "      <td>434</td>\n",
       "      <td>59883</td>\n",
       "      <td>0.725</td>\n",
       "    </tr>\n",
       "  </tbody>\n",
       "</table>\n",
       "</div>"
      ],
      "text/plain": [
       "  grp    total_rev  total_paid_visitors  total_visitors     CR\n",
       "0   A   92096.0000                  107           14693  0.728\n",
       "1   B  481230.0036                  434           59883  0.725"
      ]
     },
     "execution_count": 36,
     "metadata": {},
     "output_type": "execute_result"
    }
   ],
   "source": [
    "## Вычмсляем конверсию для всех пользователей, которые провели оплату.\n",
    "groups_all_cr = groups_all.groupby('grp',as_index=False).agg(total_visitors=('id', 'count'))\n",
    "paid_all_cr = paid_all.groupby('grp',as_index=False).agg(total_rev=('rev', 'sum'),\n",
    "                                  total_paid_visitors=('student_id', 'count')) \n",
    "paid_cr = pd.merge(paid_all_cr, groups_all_cr, on='grp')\n",
    "\n",
    "paid_cr['CR'] = (paid_cr['total_paid_visitors'] / paid_cr['total_visitors'] *100).round(3)\n",
    "paid_cr"
   ]
  },
  {
   "cell_type": "markdown",
   "metadata": {},
   "source": [
    "#### Далее можем использовать z стат для проверки гипотезы. "
   ]
  },
  {
   "cell_type": "code",
   "execution_count": 37,
   "metadata": {},
   "outputs": [],
   "source": [
    "## Эта функция вычисляет z-статистику.\n",
    "def cal_z_stat(n_A, n_B, paid_A, paid_B):\n",
    "    ## Конверсии в каждой группе\n",
    "    p_A = paid_A / n_A\n",
    "    p_B = paid_B / n_B\n",
    "\n",
    "    ## Рассчитываем стандартную ошибку \n",
    "    SE = np.sqrt((p_A * (1 - p_A) / n_A) + (p_B * (1 - p_B) / n_B))\n",
    "\n",
    "    ## Рассчитываем z-статистику\n",
    "    z_stat = (p_A - p_B) / SE\n",
    "\n",
    "    return z_stat"
   ]
  },
  {
   "cell_type": "code",
   "execution_count": 38,
   "metadata": {},
   "outputs": [],
   "source": [
    "## Подставляем нужные значении в функцию z_stat.Берем из paid_cr.\n",
    "z_stat = cal_z_stat(14693,59883,107,434)"
   ]
  },
  {
   "cell_type": "code",
   "execution_count": 39,
   "metadata": {},
   "outputs": [
    {
     "data": {
      "text/plain": [
       "0.5177959291746699"
      ]
     },
     "execution_count": 39,
     "metadata": {},
     "output_type": "execute_result"
    }
   ],
   "source": [
    "## Проверяем есть ли стат значимость между конверсиями групп.\n",
    "p_value = stats.norm.cdf(z_stat)\n",
    "p_value"
   ]
  },
  {
   "cell_type": "markdown",
   "metadata": {},
   "source": [
    "Можем заметить, что для всех оплативших пользователей **p-value > 0.05**. Поэтому **принимаем** нулевую гипотезу, между конверсиями нету различий."
   ]
  },
  {
   "cell_type": "code",
   "execution_count": 40,
   "metadata": {},
   "outputs": [
    {
     "data": {
      "text/html": [
       "<div>\n",
       "<style scoped>\n",
       "    .dataframe tbody tr th:only-of-type {\n",
       "        vertical-align: middle;\n",
       "    }\n",
       "\n",
       "    .dataframe tbody tr th {\n",
       "        vertical-align: top;\n",
       "    }\n",
       "\n",
       "    .dataframe thead th {\n",
       "        text-align: right;\n",
       "    }\n",
       "</style>\n",
       "<table border=\"1\" class=\"dataframe\">\n",
       "  <thead>\n",
       "    <tr style=\"text-align: right;\">\n",
       "      <th></th>\n",
       "      <th>grp</th>\n",
       "      <th>total_rev</th>\n",
       "      <th>paid_active_visitors</th>\n",
       "      <th>total_active_visitors</th>\n",
       "      <th>CR</th>\n",
       "    </tr>\n",
       "  </thead>\n",
       "  <tbody>\n",
       "    <tr>\n",
       "      <th>0</th>\n",
       "      <td>A</td>\n",
       "      <td>72820.0000</td>\n",
       "      <td>78</td>\n",
       "      <td>1538</td>\n",
       "      <td>5.072</td>\n",
       "    </tr>\n",
       "    <tr>\n",
       "      <th>1</th>\n",
       "      <td>B</td>\n",
       "      <td>394974.0035</td>\n",
       "      <td>314</td>\n",
       "      <td>6803</td>\n",
       "      <td>4.616</td>\n",
       "    </tr>\n",
       "  </tbody>\n",
       "</table>\n",
       "</div>"
      ],
      "text/plain": [
       "  grp    total_rev  paid_active_visitors  total_active_visitors     CR\n",
       "0   A   72820.0000                    78                   1538  5.072\n",
       "1   B  394974.0035                   314                   6803  4.616"
      ]
     },
     "execution_count": 40,
     "metadata": {},
     "output_type": "execute_result"
    }
   ],
   "source": [
    "## Вычмсляем конверсию для активных пользователей, которые провели оплату.\n",
    "active_users_cr = active_users.groupby('grp',as_index=False).agg(total_active_visitors=('student_id', 'count'))\n",
    "paid_active_cr = paid_active.groupby('grp',as_index=False).agg(total_rev=('rev', 'sum'),\n",
    "                                  paid_active_visitors=('student_id', 'count')) \n",
    "paid_active_cr = pd.merge(paid_active_cr, active_users_cr, on='grp')\n",
    "\n",
    "paid_active_cr['CR'] = (paid_active_cr['paid_active_visitors'] / paid_active_cr['total_active_visitors'] *100).round(3)\n",
    "paid_active_cr"
   ]
  },
  {
   "cell_type": "code",
   "execution_count": 41,
   "metadata": {},
   "outputs": [],
   "source": [
    "## Подставляем нужные значении в функцию z_stat.Берем из paid_active_cr.\n",
    "z_stat_active = cal_z_stat(1538,6803,78,314)"
   ]
  },
  {
   "cell_type": "code",
   "execution_count": 42,
   "metadata": {},
   "outputs": [
    {
     "data": {
      "text/plain": [
       "0.7708939860835595"
      ]
     },
     "execution_count": 42,
     "metadata": {},
     "output_type": "execute_result"
    }
   ],
   "source": [
    "## Проверяем есть ли стат значимость между конверсиями групп.\n",
    "p_value = stats.norm.cdf(z_stat_active)\n",
    "p_value"
   ]
  },
  {
   "cell_type": "markdown",
   "metadata": {},
   "source": [
    "Можем заметить, что для активных оплативших пользователей **p-value > 0.05**. Поэтому **не отклоняем** нулевую гипотезу, между конверсиями нету различий. Также это показывает, что автооплата не повлияло на конверсию стат значимо."
   ]
  },
  {
   "cell_type": "markdown",
   "metadata": {},
   "source": [
    "## Среднее, Медиана и Мода по группам"
   ]
  },
  {
   "cell_type": "code",
   "execution_count": 43,
   "metadata": {},
   "outputs": [
    {
     "data": {
      "text/html": [
       "<div>\n",
       "<style scoped>\n",
       "    .dataframe tbody tr th:only-of-type {\n",
       "        vertical-align: middle;\n",
       "    }\n",
       "\n",
       "    .dataframe tbody tr th {\n",
       "        vertical-align: top;\n",
       "    }\n",
       "\n",
       "    .dataframe thead th {\n",
       "        text-align: right;\n",
       "    }\n",
       "</style>\n",
       "<table border=\"1\" class=\"dataframe\">\n",
       "  <thead>\n",
       "    <tr style=\"text-align: right;\">\n",
       "      <th></th>\n",
       "      <th>grp</th>\n",
       "      <th>rev</th>\n",
       "    </tr>\n",
       "  </thead>\n",
       "  <tbody>\n",
       "    <tr>\n",
       "      <th>0</th>\n",
       "      <td>A</td>\n",
       "      <td>860.71</td>\n",
       "    </tr>\n",
       "    <tr>\n",
       "      <th>1</th>\n",
       "      <td>B</td>\n",
       "      <td>1108.82</td>\n",
       "    </tr>\n",
       "  </tbody>\n",
       "</table>\n",
       "</div>"
      ],
      "text/plain": [
       "  grp      rev\n",
       "0   A   860.71\n",
       "1   B  1108.82"
      ]
     },
     "execution_count": 43,
     "metadata": {},
     "output_type": "execute_result"
    }
   ],
   "source": [
    "paid_all.groupby('grp', as_index=False).agg({'rev':'mean'}).round(2)## Посчитаем среднее прибыля по группам."
   ]
  },
  {
   "cell_type": "code",
   "execution_count": 44,
   "metadata": {},
   "outputs": [
    {
     "data": {
      "text/html": [
       "<div>\n",
       "<style scoped>\n",
       "    .dataframe tbody tr th:only-of-type {\n",
       "        vertical-align: middle;\n",
       "    }\n",
       "\n",
       "    .dataframe tbody tr th {\n",
       "        vertical-align: top;\n",
       "    }\n",
       "\n",
       "    .dataframe thead th {\n",
       "        text-align: right;\n",
       "    }\n",
       "</style>\n",
       "<table border=\"1\" class=\"dataframe\">\n",
       "  <thead>\n",
       "    <tr style=\"text-align: right;\">\n",
       "      <th></th>\n",
       "      <th>grp</th>\n",
       "      <th>rev</th>\n",
       "    </tr>\n",
       "  </thead>\n",
       "  <tbody>\n",
       "    <tr>\n",
       "      <th>0</th>\n",
       "      <td>A</td>\n",
       "      <td>690.0</td>\n",
       "    </tr>\n",
       "    <tr>\n",
       "      <th>1</th>\n",
       "      <td>B</td>\n",
       "      <td>935.0</td>\n",
       "    </tr>\n",
       "  </tbody>\n",
       "</table>\n",
       "</div>"
      ],
      "text/plain": [
       "  grp    rev\n",
       "0   A  690.0\n",
       "1   B  935.0"
      ]
     },
     "execution_count": 44,
     "metadata": {},
     "output_type": "execute_result"
    }
   ],
   "source": [
    "paid_all.groupby('grp', as_index=False).agg({'rev':'median'}).round(2)## Посчитаем медиану прибыля по группам. "
   ]
  },
  {
   "cell_type": "code",
   "execution_count": 45,
   "metadata": {},
   "outputs": [
    {
     "data": {
      "text/plain": [
       "grp\n",
       "A     290.0\n",
       "B    1900.0\n",
       "Name: rev, dtype: float64"
      ]
     },
     "execution_count": 45,
     "metadata": {},
     "output_type": "execute_result"
    }
   ],
   "source": [
    "paid_all.groupby('grp')['rev'].agg(lambda x: x.mode())## Посчитаем моду прибыля по группам. "
   ]
  },
  {
   "cell_type": "code",
   "execution_count": 46,
   "metadata": {},
   "outputs": [
    {
     "data": {
      "text/plain": [
       "Text(0.5, 1.02, 'Распределение прибыли для каждой группы')"
      ]
     },
     "execution_count": 46,
     "metadata": {},
     "output_type": "execute_result"
    },
    {
     "data": {
      "text/plain": [
       "<Figure size 576x432 with 0 Axes>"
      ]
     },
     "metadata": {},
     "output_type": "display_data"
    },
    {
     "data": {
      "image/png": "[encoded data removed]",
      "text/plain": [
       "<Figure size 762.875x360 with 2 Axes>"
      ]
     },
     "metadata": {
      "needs_background": "light"
     },
     "output_type": "display_data"
    }
   ],
   "source": [
    "plt.figure(figsize=(8, 6))\n",
    "sns.displot(paid_all, x='rev', col='grp', hue='grp', bins=20)\n",
    "plt.suptitle('Распределение прибыли для каждой группы', y=1.02) \n",
    "## Распределение прибыли по группам.По гпафику также можем заметить, что доход целевой группы превышает прибыль контрольной группы. "
   ]
  },
  {
   "cell_type": "markdown",
   "metadata": {},
   "source": [
    "**Итоги** - Конверсия целевой группы(B) уступает конверсии контрольной группы(A)(не стат значимо), но можем заметить, что прибыль в целевой группе(В) выше. Ниже приведена таблица по прибыли для A/B групп. Например - это может быть связно с тем, что в целевой группе(B) добавлены новые функции с которых берутся дополнитьная оплата.\n",
    "\n",
    "| A/B      | Paid_Mean(ARPPU)| Paid_Median | Mode |\n",
    "|:---------|:--------:|:-------:|:----:|\n",
    "| Группа А | 860.71   | 690     | 290  |\n",
    "| Группа В | 1108.82  | 935     | 1900 |"
   ]
  },
  {
   "cell_type": "markdown",
   "metadata": {},
   "source": [
    "### Далее с помощью бутсрапа проверена стат значимость прибыли между группами.\n",
    "**H0 (нулевая гипотеза):** Нулевая гипотеза состоит в том, что нет никаких различий в прибыли между группами A и B.  \n",
    "\n",
    "**H1 (альтернативная гипотеза):** Альтернативная гипотеза состоит в том, что существуют статистически значимые различия в конверсии между группами A и B."
   ]
  },
  {
   "cell_type": "markdown",
   "metadata": {},
   "source": [
    "## Bootstrap"
   ]
  },
  {
   "cell_type": "code",
   "execution_count": 47,
   "metadata": {},
   "outputs": [],
   "source": [
    "control = paid_all[paid_all.grp== 'A'].drop(columns='student_id') # Извлекаем контрольную группу"
   ]
  },
  {
   "cell_type": "code",
   "execution_count": 48,
   "metadata": {},
   "outputs": [
    {
     "data": {
      "text/plain": [
       "<seaborn.axisgrid.FacetGrid at 0x7fd39ccc1898>"
      ]
     },
     "execution_count": 48,
     "metadata": {},
     "output_type": "execute_result"
    },
    {
     "data": {
      "image/png": "[encoded data removed]",
      "text/plain": [
       "<Figure size 411.875x360 with 1 Axes>"
      ]
     },
     "metadata": {
      "needs_background": "light"
     },
     "output_type": "display_data"
    }
   ],
   "source": [
    "sns.displot(data=control)"
   ]
  },
  {
   "cell_type": "code",
   "execution_count": 49,
   "metadata": {},
   "outputs": [],
   "source": [
    "experimental = paid_all[paid_all.grp== 'B'].drop(columns='student_id') # Извлекаем целевую группу"
   ]
  },
  {
   "cell_type": "code",
   "execution_count": 50,
   "metadata": {},
   "outputs": [
    {
     "data": {
      "text/plain": [
       "<seaborn.axisgrid.FacetGrid at 0x7fd39c387cf8>"
      ]
     },
     "execution_count": 50,
     "metadata": {},
     "output_type": "execute_result"
    },
    {
     "data": {
      "image/png": "[encoded data removed]",
      "text/plain": [
       "<Figure size 411.875x360 with 1 Axes>"
      ]
     },
     "metadata": {
      "needs_background": "light"
     },
     "output_type": "display_data"
    }
   ],
   "source": [
    "sns.displot(experimental)"
   ]
  },
  {
   "cell_type": "code",
   "execution_count": 51,
   "metadata": {},
   "outputs": [
    {
     "data": {
      "text/plain": [
       "BootstrapResult(confidence_interval=ConfidenceInterval(low=580.0, high=690.0), standard_error=56.14200968523432)"
      ]
     },
     "execution_count": 51,
     "metadata": {},
     "output_type": "execute_result"
    }
   ],
   "source": [
    "bootstrap((control.rev, ), np.median) # Бутстрап над контрольной группой."
   ]
  },
  {
   "cell_type": "code",
   "execution_count": 52,
   "metadata": {},
   "outputs": [
    {
     "data": {
      "text/plain": [
       "BootstrapResult(confidence_interval=ConfidenceInterval(low=840.0, high=990.0), standard_error=68.69810863677746)"
      ]
     },
     "execution_count": 52,
     "metadata": {},
     "output_type": "execute_result"
    }
   ],
   "source": [
    "bootstrap((experimental.rev, ), np.median)# Бутстрап над тестовой группой."
   ]
  },
  {
   "cell_type": "markdown",
   "metadata": {},
   "source": [
    "Можем заметить, что доверительные интервалы **не пересекаются**. Делаем вывод, что группы стат значимо отличаются."
   ]
  },
  {
   "cell_type": "markdown",
   "metadata": {},
   "source": [
    "## Итог\n",
    "Вычислили конверсию конверсию всех пользователей, а также активных пользователей. Нулевая гипотеза была принята, т.к. между конверсиями нет стат значимых различий.  \n",
    "Группы стат значимо отличаются в прибыли.  \n",
    "Также было замечено, что у 149 пользователей стоит автооплата, но она никак не влияет на конверсию.  \n",
    "Стоит ли запускать? Конверсия в тестовой группе может упасть из-за цен, но в итоги прибыли компания получит больше. Также повышение цен позволит улучшить качество услуги предлогаемой этой компанией. **Запускаем :)**"
   ]
  },
  {
   "cell_type": "markdown",
   "metadata": {},
   "source": [
    "## SQL"
   ]
  },
  {
   "cell_type": "markdown",
   "metadata": {},
   "source": [
    "### Задание 2. SQL"
   ]
  },
  {
   "cell_type": "markdown",
   "metadata": {},
   "source": [
    "### 2.1 Очень усердные ученики.\n",
    "**2.1.1 Условие**\n",
    "\n",
    "Образовательные курсы состоят из различных уроков, каждый из которых состоит из нескольких маленьких заданий. Каждое такое маленькое задание называется \"горошиной\".\n",
    "\n",
    "Назовём очень усердным учеником того пользователя, который хотя бы раз за текущий месяц **правильно** решил 20 горошин."
   ]
  },
  {
   "cell_type": "markdown",
   "metadata": {},
   "source": [
    "SELECT \n",
    "    st_id,\n",
    "    SUM(correct) as sum_corr,\n",
    "    MONTH(timest) AS MonthNumber\n",
    "FROM peas\n",
    "GROUP BY st_id,MonthNumber\n",
    "HAVING sum_corr >=20"
   ]
  },
  {
   "cell_type": "markdown",
   "metadata": {},
   "source": [
    "## 2.2 Оптимизация воронки\n",
    "\n",
    "**2.2.1 Условие**\n",
    "\n",
    "Образовательная платформа предлагает пройти студентам курсы по модели trial: студент может решить бесплатно лишь 30 горошин в день. Для неограниченного количества заданий в определенной дисциплине студенту необходимо приобрести полный доступ. Команда провела эксперимент, где был протестирован новый экран оплаты."
   ]
  },
  {
   "cell_type": "markdown",
   "metadata": {},
   "source": [
    "SELECT \n",
    "    SUM(b.money)/COUNT(DISTINCT a.st_id) as ARPU,\n",
    "    SUM(b.money)/(COUNT(DISTINCT b.st_id)-1) AS ARPPU, -- Минус один из-за NULL\n",
    "    COUNT(CASE WHEN b.money > 0 THEN 1 END)/COUNT(DISTINCT a.st_id)*100 as CR,\n",
    "    COUNT(CASE WHEN b.money > 0 THEN 1 END)/(COUNT(DISTINCT c.st_id)-1)*100 as CR_active, -- Минус один из-за NULL\n",
    "    COUNT(DISTINCT CASE WHEN d.math_correct >= 2 AND b.money > 0 THEN d.st_id END)/(COUNT(DISTINCT p.st_id)-1)*100 as CR_math -- Минус один из-за NULL\n",
    "FROM studs AS a\n",
    "LEFT JOIN final_project_check AS b \n",
    "    ON a.st_id = b.st_id\n",
    "LEFT JOIN \n",
    "    (\n",
    "    SELECT\n",
    "        st_id,\n",
    "        SUM(correct) AS sum_correct\n",
    "    FROM peas\n",
    "    GROUP BY st_id\n",
    "    HAVING sum_correct > 10\n",
    "    ) AS c \n",
    "    ON a.st_id = c.st_id\n",
    "LEFT JOIN\n",
    "    (\n",
    "    SELECT\n",
    "        st_id,subject,\n",
    "        SUM(correct) AS math_correct\n",
    "    FROM peas\n",
    "    WHERE subject == 'Math'\n",
    "    GROUP BY st_id,subject\n",
    "    HAVING math_correct >= 2\n",
    "    )AS d \n",
    "    ON a.st_id = d.st_id\n",
    "    AND b.subject = d.subject\n",
    "LEFT JOIN\n",
    "    (\n",
    "    SELECT\n",
    "        st_id,\n",
    "        SUM(correct) AS math_correct\n",
    "    FROM peas\n",
    "    WHERE subject == 'Math'\n",
    "    GROUP BY st_id\n",
    "    HAVING math_correct >= 2\n",
    "    )AS p \n",
    "    ON a.st_id = p.st_id"
   ]
  },
  {
   "cell_type": "markdown",
   "metadata": {},
   "source": [
    "# Задание №3"
   ]
  },
  {
   "cell_type": "markdown",
   "metadata": {},
   "source": [
    "**3.1.** Реализуйте функцию, которая будет автоматически подгружать информацию из дополнительного файла groups_add.csv (заголовки могут отличаться) и на основании дополнительных параметров пересчитывать метрики.  \n"
   ]
  },
  {
   "cell_type": "code",
   "execution_count": 53,
   "metadata": {},
   "outputs": [],
   "source": [
    "def rec_metrics(main_df, main_df_active, main_df_checks, add_df, df_output):\n",
    "    # Загрузка исходных данных\n",
    "    main_df = pd.read_csv(main_df, sep=';')\n",
    "    main_df_active = pd.read_csv(main_df_active)\n",
    "    main_df_checks = pd.read_csv(main_df_checks, sep=';')\n",
    "\n",
    "    # Загрузка дополнительных данных\n",
    "    add_df = pd.read_csv(add_df)\n",
    "\n",
    "    # Объединение данных\n",
    "    all_df = pd.merge(main_df, add_df, on=['id', 'grp'], how='outer').dropna()\n",
    "\n",
    "    # Объединение active_studs с groups_all для получения активных пользователей с группами(A/B)\n",
    "    active_users = pd.merge(main_df_active, all_df, left_on='student_id', right_on='id').drop(columns='id')\n",
    "\n",
    "    # Объединение groups_all с checks для получения всех пользователей, совершивших оплату в дни эксперимента\n",
    "    paid_all = pd.merge(main_df_checks, all_df, left_on='student_id', right_on='id').drop(columns='id')\n",
    "\n",
    "    # Объединение активных пользователей с данными об оплате\n",
    "    paid_active = pd.merge(active_users, main_df_checks, on='student_id')\n",
    "\n",
    "    # Создание датафрейма для сохранения метрик\n",
    "    metrics = pd.DataFrame()\n",
    "    \n",
    "    # Расчет Conversion Rate (CR)\n",
    "    metrics['CR'] = (paid_all.grp.value_counts().sort_values(ascending= True)\n",
    "                     / all_df.grp.value_counts().sort_values(ascending= True) * 100).round(3)\n",
    "    metrics['CR_active'] = (paid_active.grp.value_counts() / active_users.grp.value_counts() * 100).round(3)\n",
    "    \n",
    "    # Расчет ARPU и ARPPU\n",
    "    metrics['total_mean(ARPU)'] = paid_all.groupby('grp').rev.sum() / all_df.groupby('grp').id.count()\n",
    "    metrics['paid_mean(ARPPU)'] = paid_all.groupby('grp').rev.mean().round(3)\n",
    "    \n",
    "    # Расчет median и mode\n",
    "    metrics[['paid_median', 'paid_mode']] = paid_all.groupby('grp').rev.agg(['median', lambda x: x.mode()])\n",
    "    \n",
    "    # Сохранение результатов\n",
    "    metrics.to_csv(df_output, index=False)"
   ]
  },
  {
   "cell_type": "code",
   "execution_count": 54,
   "metadata": {},
   "outputs": [],
   "source": [
    "# Пример использования функции\n",
    "rec_metrics('Проект_2_groups.csv','Проект_2_active_studs.csv','Проект_2_checks.csv','Проект_2_group_add.csv','task_3_df.csv')"
   ]
  },
  {
   "cell_type": "code",
   "execution_count": 55,
   "metadata": {},
   "outputs": [
    {
     "data": {
      "text/html": [
       "<div>\n",
       "<style scoped>\n",
       "    .dataframe tbody tr th:only-of-type {\n",
       "        vertical-align: middle;\n",
       "    }\n",
       "\n",
       "    .dataframe tbody tr th {\n",
       "        vertical-align: top;\n",
       "    }\n",
       "\n",
       "    .dataframe thead th {\n",
       "        text-align: right;\n",
       "    }\n",
       "</style>\n",
       "<table border=\"1\" class=\"dataframe\">\n",
       "  <thead>\n",
       "    <tr style=\"text-align: right;\">\n",
       "      <th></th>\n",
       "      <th>CR</th>\n",
       "      <th>CR_active</th>\n",
       "      <th>total_mean(ARPU)</th>\n",
       "      <th>paid_mean(ARPPU)</th>\n",
       "      <th>paid_median</th>\n",
       "      <th>paid_mode</th>\n",
       "    </tr>\n",
       "  </thead>\n",
       "  <tbody>\n",
       "    <tr>\n",
       "      <th>0</th>\n",
       "      <td>0.728</td>\n",
       "      <td>5.072</td>\n",
       "      <td>6.268019</td>\n",
       "      <td>860.710</td>\n",
       "      <td>690.0</td>\n",
       "      <td>290.0</td>\n",
       "    </tr>\n",
       "    <tr>\n",
       "      <th>1</th>\n",
       "      <td>0.725</td>\n",
       "      <td>4.616</td>\n",
       "      <td>8.036171</td>\n",
       "      <td>1108.825</td>\n",
       "      <td>935.0</td>\n",
       "      <td>1900.0</td>\n",
       "    </tr>\n",
       "  </tbody>\n",
       "</table>\n",
       "</div>"
      ],
      "text/plain": [
       "      CR  CR_active  total_mean(ARPU)  paid_mean(ARPPU)  paid_median  \\\n",
       "0  0.728      5.072          6.268019           860.710        690.0   \n",
       "1  0.725      4.616          8.036171          1108.825        935.0   \n",
       "\n",
       "   paid_mode  \n",
       "0      290.0  \n",
       "1     1900.0  "
      ]
     },
     "execution_count": 55,
     "metadata": {},
     "output_type": "execute_result"
    }
   ],
   "source": [
    "pd.read_csv('task_3_df.csv')"
   ]
  },
  {
   "cell_type": "markdown",
   "metadata": {},
   "source": [
    "### 3.2. Реализуйте функцию, которая будет строить графики по получаемым метрикам."
   ]
  },
  {
   "cell_type": "markdown",
   "metadata": {},
   "source": [
    "### Графики по получаемым метрикам"
   ]
  },
  {
   "cell_type": "code",
   "execution_count": 56,
   "metadata": {},
   "outputs": [],
   "source": [
    "def plot_metrics(df_output):\n",
    "    # Загрузка данных\n",
    "    metrics = pd.read_csv(df_output)\n",
    "    \n",
    "    # Построение графиков\n",
    "    fig, axes = plt.subplots(nrows=2, ncols=2, figsize=(12, 8))\n",
    "   \n",
    "     # График Conversion Rate и CR_active\n",
    "    metrics[['CR', 'CR_active']].plot(kind='bar', ax=axes[0, 0], color=['blue', 'coral'])\n",
    "    axes[0, 0].set_title('Conversion Rate and Active Conversion Rate')\n",
    "    axes[0, 0].set_ylabel('CR, %')\n",
    "    axes[0, 0].legend(['CR', 'CR_active'])\n",
    "    axes[0, 0].set_xticklabels(['A', 'B'])  # Изменение меток на оси X\n",
    "\n",
    "    # График ARPU и ARPPU\n",
    "    metrics[['total_mean(ARPU)', 'paid_mean(ARPPU)']].plot(kind='bar', ax=axes[0, 1], color=['orange', 'green'])\n",
    "    axes[0, 1].set_title('ARPU vs ARPPU')\n",
    "    axes[0, 1].set_ylabel('Revenue')\n",
    "    axes[0, 1].legend(['ARPU', 'ARPPU'])\n",
    "    axes[0, 1].set_xticklabels(['A', 'B'])  # Изменение меток на оси X\n",
    "\n",
    "    # График median и mode\n",
    "    metrics[['paid_median', 'paid_mode']].plot(kind='bar', ax=axes[1, 1], color=['purple', 'gray'])\n",
    "    axes[1, 1].set_title('Median vs Mode')\n",
    "    axes[1, 1].set_ylabel('Revenue')\n",
    "    axes[1, 1].legend(['Median', 'Mode'])\n",
    "    axes[1, 1].set_xticklabels(['A', 'B'])  # Изменение меток на оси X\n",
    "    \n",
    "    # Удаление пустого столбца внизу\n",
    "    plt.delaxes(axes[1, 0])\n",
    "    # Подгонка расположения графиков\n",
    "    plt.tight_layout()\n",
    "\n",
    "    # Отображение графиков\n",
    "    plt.show()\n"
   ]
  },
  {
   "cell_type": "code",
   "execution_count": 57,
   "metadata": {},
   "outputs": [
    {
     "data": {
      "image/png": "[encoded data removed]",
      "text/plain": [
       "<Figure size 864x576 with 3 Axes>"
      ]
     },
     "metadata": {
      "needs_background": "light"
     },
     "output_type": "display_data"
    }
   ],
   "source": [
    "# Пример использования функции\n",
    "plot_metrics('task_3_df.csv')"
   ]
  }
 ],
 "metadata": {
  "kernelspec": {
   "display_name": "Python 3",
   "language": "python",
   "name": "python3"
  },
  "language_info": {
   "codemirror_mode": {
    "name": "ipython",
    "version": 3
   },
   "file_extension": ".py",
   "mimetype": "text/x-python",
   "name": "python",
   "nbconvert_exporter": "python",
   "pygments_lexer": "ipython3",
   "version": "3.7.3"
  }
 },
 "nbformat": 4,
 "nbformat_minor": 4
}
